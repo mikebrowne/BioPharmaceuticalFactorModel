{
 "cells": [
  {
   "cell_type": "markdown",
   "metadata": {},
   "source": [
    "# Using Keywords as a Factor\n",
    "\n",
    "Continuing from Notebook 01-FirstDataExploration I will begin analyzing the article titles for keywords that could have some interesting statistical properties.\n",
    "\n",
    "## Information from the Previous Notebook\n",
    "\n",
    "Now, it would be good to look through the keywords from the article titles and see if there are any keywords that are indicitive of positive or negative results.\n",
    "\n",
    "The initial look will be very basic and intuitive as we are just take a first look.\n",
    "\n",
    "Hypothesis:\n",
    "* Words like positive and negative should be telling of which direction the stock will go. Also w.r.t. exploration there should be other words that may be helpful in determining the direction (and possibly the magnitude)\n",
    "\n",
    "Collect all of the \"important\" words (using NLP practices) for a bag of words.\n",
    "\n",
    "Seperate the events into classes, in this case will use quartiles (this can be changed later on). For each word that has \"enough\" frequency we want to get as much information as possible about the probability of a company ending in each quartile bracket.\n",
    "\n",
    "## Table of Contents\n"
   ]
  },
  {
   "cell_type": "markdown",
   "metadata": {},
   "source": [
    "## Imports and Settings"
   ]
  },
  {
   "cell_type": "code",
   "execution_count": null,
   "metadata": {},
   "outputs": [],
   "source": [
    "# Imports\n",
    "\n",
    "# Numerical Libraries\n",
    "import numpy as np\n",
    "import pandas as pd\n",
    "\n",
    "# Visual Libraries\n",
    "import matplotlib.pyplot as plt\n",
    "import seaborn as sns\n",
    "\n",
    "# Local Libraries\n",
    "import sys\n",
    "sys.path.append(\"../../src/data/\")\n",
    "from make_dataset import get_raw_data\n",
    "\n",
    "sys.path.append(\"../../src/features\")\n",
    "from nlp_functions import remove_non_english_articles\n",
    "from general_helper_functions import GetPrices"
   ]
  },
  {
   "cell_type": "code",
   "execution_count": null,
   "metadata": {},
   "outputs": [],
   "source": [
    "# Settings\n",
    "\n",
    "# Stop the warnings for chain in pandas...\n",
    "pd.options.mode.chained_assignment = None\n",
    "\n",
    "%load_ext autoreload\n",
    "%autoreload 2\n",
    "\n",
    "from IPython.core.display import display, HTML\n",
    "display(HTML(\"<style>.container {width:100% !important;}</style>\"))\n",
    "\n",
    "%matplotlib inline"
   ]
  }
 ],
 "metadata": {
  "kernelspec": {
   "display_name": "Python 3",
   "language": "python",
   "name": "python3"
  },
  "language_info": {
   "codemirror_mode": {
    "name": "ipython",
    "version": 3
   },
   "file_extension": ".py",
   "mimetype": "text/x-python",
   "name": "python",
   "nbconvert_exporter": "python",
   "pygments_lexer": "ipython3",
   "version": "3.6.5"
  }
 },
 "nbformat": 4,
 "nbformat_minor": 2
}
