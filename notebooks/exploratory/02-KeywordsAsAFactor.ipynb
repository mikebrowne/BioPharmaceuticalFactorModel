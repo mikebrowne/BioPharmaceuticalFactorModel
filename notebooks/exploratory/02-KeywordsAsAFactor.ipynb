{
 "cells": [
  {
   "cell_type": "markdown",
   "metadata": {},
   "source": [
    "# Using Keywords as a Factor\n",
    "\n",
    "Continuing from Notebook 01-FirstDataExploration I will begin analyzing the article titles for keywords that could have some interesting statistical properties.\n",
    "\n",
    "## Information from the Previous Notebook\n",
    "\n",
    "Now, it would be good to look through the keywords from the article titles and see if there are any keywords that are indicitive of positive or negative results.\n",
    "\n",
    "The initial look will be very basic and intuitive as we are just take a first look.\n",
    "\n",
    "Hypothesis:\n",
    "* Words like positive and negative should be telling of which direction the stock will go. Also w.r.t. exploration there should be other words that may be helpful in determining the direction (and possibly the magnitude)\n",
    "\n",
    "Collect all of the \"important\" words (using NLP practices) for a bag of words.\n",
    "\n",
    "Seperate the events into classes, in this case will use quartiles (this can be changed later on). For each word that has \"enough\" frequency we want to get as much information as possible about the probability of a company ending in each quartile bracket.\n",
    "\n",
    "## Table of Contents\n",
    "\n",
    "1. [\"Import and Settings\"](#1)\n",
    "2. [\"Importing and Cleaning Data\"](#2)\n",
    "3. [\"NLP Exploration\"](#3)"
   ]
  },
  {
   "cell_type": "markdown",
   "metadata": {},
   "source": [
    "## Imports and Settings\n",
    "<a id=\"1\"><a/>"
   ]
  },
  {
   "cell_type": "code",
   "execution_count": 79,
   "metadata": {},
   "outputs": [],
   "source": [
    "# Imports\n",
    "\n",
    "# Numerical Libraries\n",
    "import numpy as np\n",
    "import pandas as pd\n",
    "from sklearn.feature_extraction.text import TfidfVectorizer\n",
    "\n",
    "# Visual Libraries\n",
    "import matplotlib.pyplot as plt\n",
    "import seaborn as sns\n",
    "\n",
    "# Local Package Libraries\n",
    "import sys\n",
    "sys.path.append(\"../..\")\n",
    "\n",
    "from src.data.make_dataset import clean_and_open_business_wire_data_01, get_raw_data\n",
    "from src.features.general_helper_functions import GetPrices\n",
    "from src.features.nlp_functions import *"
   ]
  },
  {
   "cell_type": "code",
   "execution_count": 33,
   "metadata": {},
   "outputs": [
    {
     "name": "stdout",
     "output_type": "stream",
     "text": [
      "The autoreload extension is already loaded. To reload it, use:\n",
      "  %reload_ext autoreload\n"
     ]
    },
    {
     "data": {
      "text/html": [
       "<style>.container {width:100% !important;}</style>"
      ],
      "text/plain": [
       "<IPython.core.display.HTML object>"
      ]
     },
     "metadata": {},
     "output_type": "display_data"
    }
   ],
   "source": [
    "# Settings\n",
    "\n",
    "# Stop the warnings for chain in pandas...\n",
    "pd.options.mode.chained_assignment = None\n",
    "\n",
    "%load_ext autoreload\n",
    "%autoreload 2\n",
    "\n",
    "from IPython.core.display import display, HTML\n",
    "display(HTML(\"<style>.container {width:100% !important;}</style>\"))\n",
    "\n",
    "%matplotlib inline"
   ]
  },
  {
   "cell_type": "markdown",
   "metadata": {},
   "source": [
    "## Importing and Cleaning the Data\n",
    "<a id=\"2\"></a>"
   ]
  },
  {
   "cell_type": "code",
   "execution_count": 3,
   "metadata": {},
   "outputs": [],
   "source": [
    "_, watchlist_raw, stock_prices_raw = get_raw_data()"
   ]
  },
  {
   "cell_type": "code",
   "execution_count": 4,
   "metadata": {},
   "outputs": [],
   "source": [
    "clinical_trial_df = clean_and_open_business_wire_data_01(None)\n",
    "clinical_trial_df.time = pd.to_datetime(clinical_trial_df.time)"
   ]
  },
  {
   "cell_type": "code",
   "execution_count": 7,
   "metadata": {},
   "outputs": [
    {
     "name": "stdout",
     "output_type": "stream",
     "text": [
      "Original size:  (721, 4)\n",
      "Final size:  (197, 4)\n",
      "Original size:  (5402, 208)\n",
      "Final size:  (5402, 197)\n"
     ]
    },
    {
     "data": {
      "text/html": [
       "<div>\n",
       "<style scoped>\n",
       "    .dataframe tbody tr th:only-of-type {\n",
       "        vertical-align: middle;\n",
       "    }\n",
       "\n",
       "    .dataframe tbody tr th {\n",
       "        vertical-align: top;\n",
       "    }\n",
       "\n",
       "    .dataframe thead th {\n",
       "        text-align: right;\n",
       "    }\n",
       "</style>\n",
       "<table border=\"1\" class=\"dataframe\">\n",
       "  <thead>\n",
       "    <tr style=\"text-align: right;\">\n",
       "      <th></th>\n",
       "      <th>ACAD</th>\n",
       "      <th>ACHC</th>\n",
       "      <th>ACOR</th>\n",
       "      <th>ADUS</th>\n",
       "      <th>AERI</th>\n",
       "      <th>AGIO</th>\n",
       "      <th>AIMT</th>\n",
       "      <th>AKCA</th>\n",
       "      <th>AKRX</th>\n",
       "      <th>ALDR</th>\n",
       "      <th>...</th>\n",
       "      <th>VRAY</th>\n",
       "      <th>VREX</th>\n",
       "      <th>WMGI</th>\n",
       "      <th>WVE</th>\n",
       "      <th>XENT</th>\n",
       "      <th>XLRN</th>\n",
       "      <th>XNCR</th>\n",
       "      <th>XON</th>\n",
       "      <th>YI</th>\n",
       "      <th>ZGNX</th>\n",
       "    </tr>\n",
       "  </thead>\n",
       "  <tbody>\n",
       "    <tr>\n",
       "      <th>2019-06-17</th>\n",
       "      <td>25.42</td>\n",
       "      <td>34.00</td>\n",
       "      <td>7.68</td>\n",
       "      <td>72.56</td>\n",
       "      <td>33.29</td>\n",
       "      <td>50.66</td>\n",
       "      <td>20.54</td>\n",
       "      <td>24.39</td>\n",
       "      <td>4.34</td>\n",
       "      <td>12.45</td>\n",
       "      <td>...</td>\n",
       "      <td>8.95</td>\n",
       "      <td>28.21</td>\n",
       "      <td>31.31</td>\n",
       "      <td>27.43</td>\n",
       "      <td>24.45</td>\n",
       "      <td>38.36</td>\n",
       "      <td>32.55</td>\n",
       "      <td>7.60</td>\n",
       "      <td>6.75</td>\n",
       "      <td>40.30</td>\n",
       "    </tr>\n",
       "    <tr>\n",
       "      <th>2019-06-18</th>\n",
       "      <td>25.93</td>\n",
       "      <td>34.20</td>\n",
       "      <td>7.66</td>\n",
       "      <td>72.92</td>\n",
       "      <td>33.84</td>\n",
       "      <td>51.91</td>\n",
       "      <td>20.20</td>\n",
       "      <td>23.98</td>\n",
       "      <td>4.48</td>\n",
       "      <td>11.73</td>\n",
       "      <td>...</td>\n",
       "      <td>9.13</td>\n",
       "      <td>28.95</td>\n",
       "      <td>31.69</td>\n",
       "      <td>27.92</td>\n",
       "      <td>23.97</td>\n",
       "      <td>40.62</td>\n",
       "      <td>34.54</td>\n",
       "      <td>8.60</td>\n",
       "      <td>6.62</td>\n",
       "      <td>39.79</td>\n",
       "    </tr>\n",
       "    <tr>\n",
       "      <th>2019-06-19</th>\n",
       "      <td>26.62</td>\n",
       "      <td>34.04</td>\n",
       "      <td>7.54</td>\n",
       "      <td>75.89</td>\n",
       "      <td>32.89</td>\n",
       "      <td>51.42</td>\n",
       "      <td>20.07</td>\n",
       "      <td>22.80</td>\n",
       "      <td>4.65</td>\n",
       "      <td>11.55</td>\n",
       "      <td>...</td>\n",
       "      <td>9.11</td>\n",
       "      <td>29.26</td>\n",
       "      <td>31.88</td>\n",
       "      <td>26.93</td>\n",
       "      <td>24.16</td>\n",
       "      <td>39.92</td>\n",
       "      <td>34.65</td>\n",
       "      <td>8.55</td>\n",
       "      <td>6.62</td>\n",
       "      <td>40.37</td>\n",
       "    </tr>\n",
       "    <tr>\n",
       "      <th>2019-06-20</th>\n",
       "      <td>25.73</td>\n",
       "      <td>34.52</td>\n",
       "      <td>7.28</td>\n",
       "      <td>74.91</td>\n",
       "      <td>32.13</td>\n",
       "      <td>51.30</td>\n",
       "      <td>20.24</td>\n",
       "      <td>22.90</td>\n",
       "      <td>4.74</td>\n",
       "      <td>11.54</td>\n",
       "      <td>...</td>\n",
       "      <td>8.92</td>\n",
       "      <td>29.57</td>\n",
       "      <td>30.48</td>\n",
       "      <td>26.86</td>\n",
       "      <td>23.62</td>\n",
       "      <td>40.85</td>\n",
       "      <td>35.10</td>\n",
       "      <td>8.01</td>\n",
       "      <td>6.62</td>\n",
       "      <td>40.91</td>\n",
       "    </tr>\n",
       "    <tr>\n",
       "      <th>2019-06-21</th>\n",
       "      <td>26.00</td>\n",
       "      <td>34.72</td>\n",
       "      <td>7.49</td>\n",
       "      <td>74.63</td>\n",
       "      <td>30.91</td>\n",
       "      <td>50.78</td>\n",
       "      <td>20.00</td>\n",
       "      <td>24.26</td>\n",
       "      <td>4.78</td>\n",
       "      <td>11.60</td>\n",
       "      <td>...</td>\n",
       "      <td>8.72</td>\n",
       "      <td>29.21</td>\n",
       "      <td>30.09</td>\n",
       "      <td>26.18</td>\n",
       "      <td>23.15</td>\n",
       "      <td>40.18</td>\n",
       "      <td>35.16</td>\n",
       "      <td>7.57</td>\n",
       "      <td>6.49</td>\n",
       "      <td>40.62</td>\n",
       "    </tr>\n",
       "  </tbody>\n",
       "</table>\n",
       "<p>5 rows × 197 columns</p>\n",
       "</div>"
      ],
      "text/plain": [
       "             ACAD   ACHC  ACOR   ADUS   AERI   AGIO   AIMT   AKCA  AKRX  \\\n",
       "2019-06-17  25.42  34.00  7.68  72.56  33.29  50.66  20.54  24.39  4.34   \n",
       "2019-06-18  25.93  34.20  7.66  72.92  33.84  51.91  20.20  23.98  4.48   \n",
       "2019-06-19  26.62  34.04  7.54  75.89  32.89  51.42  20.07  22.80  4.65   \n",
       "2019-06-20  25.73  34.52  7.28  74.91  32.13  51.30  20.24  22.90  4.74   \n",
       "2019-06-21  26.00  34.72  7.49  74.63  30.91  50.78  20.00  24.26  4.78   \n",
       "\n",
       "             ALDR  ...    VRAY   VREX   WMGI    WVE   XENT   XLRN   XNCR  \\\n",
       "2019-06-17  12.45  ...    8.95  28.21  31.31  27.43  24.45  38.36  32.55   \n",
       "2019-06-18  11.73  ...    9.13  28.95  31.69  27.92  23.97  40.62  34.54   \n",
       "2019-06-19  11.55  ...    9.11  29.26  31.88  26.93  24.16  39.92  34.65   \n",
       "2019-06-20  11.54  ...    8.92  29.57  30.48  26.86  23.62  40.85  35.10   \n",
       "2019-06-21  11.60  ...    8.72  29.21  30.09  26.18  23.15  40.18  35.16   \n",
       "\n",
       "             XON    YI   ZGNX  \n",
       "2019-06-17  7.60  6.75  40.30  \n",
       "2019-06-18  8.60  6.62  39.79  \n",
       "2019-06-19  8.55  6.62  40.37  \n",
       "2019-06-20  8.01  6.62  40.91  \n",
       "2019-06-21  7.57  6.49  40.62  \n",
       "\n",
       "[5 rows x 197 columns]"
      ]
     },
     "execution_count": 7,
     "metadata": {},
     "output_type": "execute_result"
    }
   ],
   "source": [
    "# Watchlist\n",
    "\n",
    "# 0: Create a copy of the data\n",
    "watchlist_df = watchlist_raw.copy()\n",
    "print(\"Original size: \", watchlist_df.shape)\n",
    "\n",
    "# 1: Get a list of the unique companies that have scraped article data\n",
    "unique_companies = clinical_trial_df.ticker.unique()\n",
    "\n",
    "# 2: Keep only the companies from the list\n",
    "watchlist_df = watchlist_df.loc[watchlist_df.Ticker.isin(unique_companies)]\n",
    "print(\"Final size: \", watchlist_df.shape)\n",
    "\n",
    "watchlist_df.columns = [\"ticker\", \"marketcap\", \"sector\", \"exchange\"]\n",
    "\n",
    "watchlist_df.head()\n",
    "\n",
    "\n",
    "# Stock Prices\n",
    "\n",
    "# 0: Make a copy of the stock prices here\n",
    "prices_df = stock_prices_raw.copy()\n",
    "print(\"Original size: \", prices_df.shape)\n",
    "\n",
    "# 1: Reduce the new copy of prices to only the companies under our scope\n",
    "prices_df = prices_df[unique_companies]\n",
    "print(\"Final size: \", prices_df.shape)\n",
    "\n",
    "# 2: Sort by date\n",
    "prices_df.sort_index(inplace=True)\n",
    "\n",
    "# 3: Ensure index is datetime object\n",
    "prices_df.index = pd.to_datetime(prices_df.index)\n",
    "\n",
    "prices_df.tail()"
   ]
  },
  {
   "cell_type": "markdown",
   "metadata": {},
   "source": [
    "### Filter for \"Phase\""
   ]
  },
  {
   "cell_type": "code",
   "execution_count": 14,
   "metadata": {},
   "outputs": [
    {
     "name": "stdout",
     "output_type": "stream",
     "text": [
      "Filtered size:  (226, 4)\n"
     ]
    }
   ],
   "source": [
    "df_filtered_for_phase = clinical_trial_df.loc[clinical_trial_df.title.str.contains(\"phase\")]\n",
    "print(\"Filtered size: \", df_filtered_for_phase.shape)"
   ]
  },
  {
   "cell_type": "markdown",
   "metadata": {},
   "source": [
    "### Filter the Stock Prices"
   ]
  },
  {
   "cell_type": "code",
   "execution_count": 16,
   "metadata": {},
   "outputs": [
    {
     "data": {
      "text/html": [
       "<div>\n",
       "<style scoped>\n",
       "    .dataframe tbody tr th:only-of-type {\n",
       "        vertical-align: middle;\n",
       "    }\n",
       "\n",
       "    .dataframe tbody tr th {\n",
       "        vertical-align: top;\n",
       "    }\n",
       "\n",
       "    .dataframe thead th {\n",
       "        text-align: right;\n",
       "    }\n",
       "</style>\n",
       "<table border=\"1\" class=\"dataframe\">\n",
       "  <thead>\n",
       "    <tr style=\"text-align: right;\">\n",
       "      <th></th>\n",
       "      <th>R_0</th>\n",
       "      <th>R_1</th>\n",
       "      <th>R_2</th>\n",
       "      <th>R_3</th>\n",
       "      <th>R_4</th>\n",
       "      <th>R_5</th>\n",
       "      <th>R_6</th>\n",
       "      <th>R_7</th>\n",
       "      <th>R_8</th>\n",
       "      <th>R_9</th>\n",
       "      <th>...</th>\n",
       "      <th>R_19</th>\n",
       "      <th>R_20</th>\n",
       "      <th>R_21</th>\n",
       "      <th>R_22</th>\n",
       "      <th>R_23</th>\n",
       "      <th>R_24</th>\n",
       "      <th>R_25</th>\n",
       "      <th>R_26</th>\n",
       "      <th>R_27</th>\n",
       "      <th>R_28</th>\n",
       "    </tr>\n",
       "  </thead>\n",
       "  <tbody>\n",
       "    <tr>\n",
       "      <th>1</th>\n",
       "      <td>NaN</td>\n",
       "      <td>NaN</td>\n",
       "      <td>NaN</td>\n",
       "      <td>NaN</td>\n",
       "      <td>NaN</td>\n",
       "      <td>NaN</td>\n",
       "      <td>NaN</td>\n",
       "      <td>NaN</td>\n",
       "      <td>NaN</td>\n",
       "      <td>NaN</td>\n",
       "      <td>...</td>\n",
       "      <td>NaN</td>\n",
       "      <td>NaN</td>\n",
       "      <td>NaN</td>\n",
       "      <td>NaN</td>\n",
       "      <td>NaN</td>\n",
       "      <td>NaN</td>\n",
       "      <td>NaN</td>\n",
       "      <td>NaN</td>\n",
       "      <td>NaN</td>\n",
       "      <td>NaN</td>\n",
       "    </tr>\n",
       "    <tr>\n",
       "      <th>6</th>\n",
       "      <td>0.029448</td>\n",
       "      <td>0.027403</td>\n",
       "      <td>-0.016360</td>\n",
       "      <td>-0.032311</td>\n",
       "      <td>0.042945</td>\n",
       "      <td>0.084663</td>\n",
       "      <td>0.095706</td>\n",
       "      <td>0.055624</td>\n",
       "      <td>0.069530</td>\n",
       "      <td>0.062577</td>\n",
       "      <td>...</td>\n",
       "      <td>0.036401</td>\n",
       "      <td>0.061759</td>\n",
       "      <td>0.069121</td>\n",
       "      <td>0.005726</td>\n",
       "      <td>0.018405</td>\n",
       "      <td>-0.018814</td>\n",
       "      <td>-0.002454</td>\n",
       "      <td>0.036810</td>\n",
       "      <td>0.053988</td>\n",
       "      <td>0.018814</td>\n",
       "    </tr>\n",
       "    <tr>\n",
       "      <th>12</th>\n",
       "      <td>0.015244</td>\n",
       "      <td>0.023247</td>\n",
       "      <td>0.028201</td>\n",
       "      <td>0.041159</td>\n",
       "      <td>0.042302</td>\n",
       "      <td>0.023628</td>\n",
       "      <td>0.071646</td>\n",
       "      <td>0.031631</td>\n",
       "      <td>0.016387</td>\n",
       "      <td>0.020579</td>\n",
       "      <td>...</td>\n",
       "      <td>-0.068216</td>\n",
       "      <td>-0.040777</td>\n",
       "      <td>-0.042683</td>\n",
       "      <td>-0.083460</td>\n",
       "      <td>-0.098323</td>\n",
       "      <td>-0.028201</td>\n",
       "      <td>0.010671</td>\n",
       "      <td>0.020960</td>\n",
       "      <td>-0.016387</td>\n",
       "      <td>-0.003430</td>\n",
       "    </tr>\n",
       "    <tr>\n",
       "      <th>25</th>\n",
       "      <td>0.147844</td>\n",
       "      <td>0.166838</td>\n",
       "      <td>0.111910</td>\n",
       "      <td>0.123203</td>\n",
       "      <td>0.026694</td>\n",
       "      <td>-0.011807</td>\n",
       "      <td>-0.031828</td>\n",
       "      <td>-0.031828</td>\n",
       "      <td>-0.085729</td>\n",
       "      <td>-0.100103</td>\n",
       "      <td>...</td>\n",
       "      <td>0.033368</td>\n",
       "      <td>-0.021561</td>\n",
       "      <td>0.042094</td>\n",
       "      <td>-0.033881</td>\n",
       "      <td>-0.029261</td>\n",
       "      <td>-0.065195</td>\n",
       "      <td>-0.035934</td>\n",
       "      <td>-0.046715</td>\n",
       "      <td>-0.051335</td>\n",
       "      <td>-0.079569</td>\n",
       "    </tr>\n",
       "    <tr>\n",
       "      <th>22</th>\n",
       "      <td>-0.037300</td>\n",
       "      <td>-0.056838</td>\n",
       "      <td>-0.052102</td>\n",
       "      <td>-0.078745</td>\n",
       "      <td>-0.055654</td>\n",
       "      <td>-0.088218</td>\n",
       "      <td>-0.075784</td>\n",
       "      <td>-0.024867</td>\n",
       "      <td>-0.015394</td>\n",
       "      <td>-0.018354</td>\n",
       "      <td>...</td>\n",
       "      <td>-0.153345</td>\n",
       "      <td>-0.194198</td>\n",
       "      <td>-0.224393</td>\n",
       "      <td>-0.207815</td>\n",
       "      <td>-0.234458</td>\n",
       "      <td>-0.205447</td>\n",
       "      <td>-0.171107</td>\n",
       "      <td>-0.156306</td>\n",
       "      <td>-0.127294</td>\n",
       "      <td>-0.107164</td>\n",
       "    </tr>\n",
       "  </tbody>\n",
       "</table>\n",
       "<p>5 rows × 29 columns</p>\n",
       "</div>"
      ],
      "text/plain": [
       "         R_0       R_1       R_2       R_3       R_4       R_5       R_6  \\\n",
       "1        NaN       NaN       NaN       NaN       NaN       NaN       NaN   \n",
       "6   0.029448  0.027403 -0.016360 -0.032311  0.042945  0.084663  0.095706   \n",
       "12  0.015244  0.023247  0.028201  0.041159  0.042302  0.023628  0.071646   \n",
       "25  0.147844  0.166838  0.111910  0.123203  0.026694 -0.011807 -0.031828   \n",
       "22 -0.037300 -0.056838 -0.052102 -0.078745 -0.055654 -0.088218 -0.075784   \n",
       "\n",
       "         R_7       R_8       R_9    ...         R_19      R_20      R_21  \\\n",
       "1        NaN       NaN       NaN    ...          NaN       NaN       NaN   \n",
       "6   0.055624  0.069530  0.062577    ...     0.036401  0.061759  0.069121   \n",
       "12  0.031631  0.016387  0.020579    ...    -0.068216 -0.040777 -0.042683   \n",
       "25 -0.031828 -0.085729 -0.100103    ...     0.033368 -0.021561  0.042094   \n",
       "22 -0.024867 -0.015394 -0.018354    ...    -0.153345 -0.194198 -0.224393   \n",
       "\n",
       "        R_22      R_23      R_24      R_25      R_26      R_27      R_28  \n",
       "1        NaN       NaN       NaN       NaN       NaN       NaN       NaN  \n",
       "6   0.005726  0.018405 -0.018814 -0.002454  0.036810  0.053988  0.018814  \n",
       "12 -0.083460 -0.098323 -0.028201  0.010671  0.020960 -0.016387 -0.003430  \n",
       "25 -0.033881 -0.029261 -0.065195 -0.035934 -0.046715 -0.051335 -0.079569  \n",
       "22 -0.207815 -0.234458 -0.205447 -0.171107 -0.156306 -0.127294 -0.107164  \n",
       "\n",
       "[5 rows x 29 columns]"
      ]
     },
     "execution_count": 16,
     "metadata": {},
     "output_type": "execute_result"
    }
   ],
   "source": [
    "# Get the stock prices for 30 days following each event\n",
    "price_window = GetPrices(\n",
    "    df_filtered_for_phase, \n",
    "    prices_df, \n",
    "    n_window=30\n",
    ").add_prices_to_frame()\n",
    "\n",
    "#.dropna(axis=0, inplace=True)\n",
    "\n",
    "def perc_return(value_matrix, i, j):\n",
    "    return (value_matrix[j][i] / value_matrix[j][0]) - 1\n",
    "\n",
    "\n",
    "return_values = np.array([\n",
    "    np.array([\n",
    "        perc_return(price_window.values, i, j) for i in range(1, price_window.values.shape[1])\n",
    "    ]) for j in range(price_window.values.shape[0])\n",
    "])\n",
    "\n",
    "\n",
    "cols = [\"R_{}\".format(i) for i in range(return_values.shape[1])]\n",
    "\n",
    "return_window = pd.DataFrame(return_values, index=price_window.index, columns=cols)\n",
    "\n",
    "return_window.head()"
   ]
  },
  {
   "cell_type": "markdown",
   "metadata": {},
   "source": [
    "## NLP Feature Exploration\n",
    "<a id=\"3\"></a>\n",
    "\n",
    "In this section we will clean up the title in df_filtered_for_phase data using:\n",
    "\n",
    "* remove_white_spaces\n",
    "* remove_non_alphanumeric\n",
    "* remove_numbers\n",
    "* remove_stop_words"
   ]
  },
  {
   "cell_type": "code",
   "execution_count": 19,
   "metadata": {},
   "outputs": [
    {
     "data": {
      "text/html": [
       "<div>\n",
       "<style scoped>\n",
       "    .dataframe tbody tr th:only-of-type {\n",
       "        vertical-align: middle;\n",
       "    }\n",
       "\n",
       "    .dataframe tbody tr th {\n",
       "        vertical-align: top;\n",
       "    }\n",
       "\n",
       "    .dataframe thead th {\n",
       "        text-align: right;\n",
       "    }\n",
       "</style>\n",
       "<table border=\"1\" class=\"dataframe\">\n",
       "  <thead>\n",
       "    <tr style=\"text-align: right;\">\n",
       "      <th></th>\n",
       "      <th>time</th>\n",
       "      <th>title</th>\n",
       "      <th>ticker</th>\n",
       "      <th>article</th>\n",
       "    </tr>\n",
       "  </thead>\n",
       "  <tbody>\n",
       "    <tr>\n",
       "      <th>1</th>\n",
       "      <td>2019-05-18</td>\n",
       "      <td>acadia pharmaceuticals present phase  clarity ...</td>\n",
       "      <td>ACAD</td>\n",
       "      <td>san diego--(business wire)--acadia pharmaceut...</td>\n",
       "    </tr>\n",
       "    <tr>\n",
       "      <th>6</th>\n",
       "      <td>2019-04-25</td>\n",
       "      <td>acadia pharmaceuticals initiates phase  clarit...</td>\n",
       "      <td>ACAD</td>\n",
       "      <td>san diego--(business wire)--acadia pharmaceut...</td>\n",
       "    </tr>\n",
       "    <tr>\n",
       "      <th>12</th>\n",
       "      <td>2019-03-27</td>\n",
       "      <td>positive phase  study results trofinetide pedi...</td>\n",
       "      <td>ACAD</td>\n",
       "      <td>san diego &amp; cincinnati &amp; melbourne, australia...</td>\n",
       "    </tr>\n",
       "    <tr>\n",
       "      <th>25</th>\n",
       "      <td>2018-10-31</td>\n",
       "      <td>acadia pharmaceuticals announces positive top ...</td>\n",
       "      <td>ACAD</td>\n",
       "      <td>san diego--(business wire)--acadia pharmaceut...</td>\n",
       "    </tr>\n",
       "    <tr>\n",
       "      <th>22</th>\n",
       "      <td>2019-01-17</td>\n",
       "      <td>acorda announces lancet neurology publication ...</td>\n",
       "      <td>ACOR</td>\n",
       "      <td>ardsley, n.y.--(business wire)--acorda therap...</td>\n",
       "    </tr>\n",
       "  </tbody>\n",
       "</table>\n",
       "</div>"
      ],
      "text/plain": [
       "         time                                              title ticker  \\\n",
       "1  2019-05-18  acadia pharmaceuticals present phase  clarity ...   ACAD   \n",
       "6  2019-04-25  acadia pharmaceuticals initiates phase  clarit...   ACAD   \n",
       "12 2019-03-27  positive phase  study results trofinetide pedi...   ACAD   \n",
       "25 2018-10-31  acadia pharmaceuticals announces positive top ...   ACAD   \n",
       "22 2019-01-17  acorda announces lancet neurology publication ...   ACOR   \n",
       "\n",
       "                                              article  \n",
       "1    san diego--(business wire)--acadia pharmaceut...  \n",
       "6    san diego--(business wire)--acadia pharmaceut...  \n",
       "12   san diego & cincinnati & melbourne, australia...  \n",
       "25   san diego--(business wire)--acadia pharmaceut...  \n",
       "22   ardsley, n.y.--(business wire)--acorda therap...  "
      ]
     },
     "execution_count": 19,
     "metadata": {},
     "output_type": "execute_result"
    }
   ],
   "source": [
    "articles = df_filtered_for_phase\n",
    "articles.title = articles.title.apply(remove_white_spaces)\n",
    "articles.title = articles.title.apply(remove_non_alphanumeric)\n",
    "articles.title = articles.title.apply(remove_numbers)\n",
    "articles.title = articles.title.apply(remove_stop_words)\n",
    "\n",
    "articles.head()"
   ]
  },
  {
   "cell_type": "markdown",
   "metadata": {},
   "source": [
    "Looking at the titles again I noticed that the company's name is also generally in the title. It would be best to remove that as the company will already be it's own feature implicitly."
   ]
  },
  {
   "cell_type": "code",
   "execution_count": 58,
   "metadata": {},
   "outputs": [],
   "source": [
    "company_names = watchlist_df.loc[watchlist_df.ticker.isin(unique_companies)].index.tolist()\n",
    "articles.title = articles.title.apply(remove_company_name, args=(company_names,))"
   ]
  },
  {
   "cell_type": "markdown",
   "metadata": {},
   "source": [
    "We will now need our set of unique keyword"
   ]
  },
  {
   "cell_type": "code",
   "execution_count": 65,
   "metadata": {},
   "outputs": [
    {
     "data": {
      "text/plain": [
       "857"
      ]
     },
     "execution_count": 65,
     "metadata": {},
     "output_type": "execute_result"
    }
   ],
   "source": [
    "combined_titles = \" \".join(articles.title.values.tolist())\n",
    "\n",
    "set_of_words = list(set(combined_titles.split(\" \")))\n",
    "set_of_words.remove(\"\")\n",
    "\n",
    "len(set_of_words)"
   ]
  },
  {
   "cell_type": "markdown",
   "metadata": {},
   "source": [
    "We will also want to remove all \"words\" that have 2 or less characters:"
   ]
  },
  {
   "cell_type": "code",
   "execution_count": 125,
   "metadata": {},
   "outputs": [],
   "source": [
    "set_of_words.remove(\"phase\")"
   ]
  },
  {
   "cell_type": "code",
   "execution_count": 122,
   "metadata": {},
   "outputs": [
    {
     "data": {
      "text/plain": [
       "828"
      ]
     },
     "execution_count": 122,
     "metadata": {},
     "output_type": "execute_result"
    }
   ],
   "source": [
    "set_of_words = [word for word in set_of_words if len(word) > 2]\n",
    "\n",
    "len(set_of_words)"
   ]
  },
  {
   "cell_type": "markdown",
   "metadata": {},
   "source": [
    "Need a function that, given a data frame (or sub data frame) with the article titles, will give the frequency that the word occurs."
   ]
  },
  {
   "cell_type": "code",
   "execution_count": 131,
   "metadata": {},
   "outputs": [],
   "source": [
    "def calculate_word_frequency(word_list, df):\n",
    "    d = {word: sum([1 if word in article else 0 for article in df.title.values])/df.shape[0] for word in word_list}\n",
    "    \n",
    "    return pd.Series(d, index = d.keys()).sort_values(ascending=False)"
   ]
  },
  {
   "cell_type": "code",
   "execution_count": 132,
   "metadata": {},
   "outputs": [
    {
     "data": {
      "text/plain": [
       "trial        0.469027\n",
       "clinical     0.314159\n",
       "announce     0.309735\n",
       "patient      0.305310\n",
       "study        0.292035\n",
       "results      0.269912\n",
       "announces    0.256637\n",
       "com          0.252212\n",
       "patients     0.247788\n",
       "pre          0.238938\n",
       "ted          0.207965\n",
       "line         0.199115\n",
       "data         0.176991\n",
       "treatment    0.172566\n",
       "present      0.163717\n",
       "positive     0.154867\n",
       "met          0.150442\n",
       "initiate     0.132743\n",
       "cancer       0.123894\n",
       "anal         0.119469\n",
       "dtype: float64"
      ]
     },
     "execution_count": 132,
     "metadata": {},
     "output_type": "execute_result"
    }
   ],
   "source": [
    "word_frequency = calculate_word_frequency(set_of_words, articles)\n",
    "word_frequency.head(20)"
   ]
  },
  {
   "cell_type": "markdown",
   "metadata": {},
   "source": [
    "So, what we are looking for are words that are in a *substantial* number of documents and provide *enough* classification information.\n",
    "\n",
    "by substantial, in this case I will use an absolute cut-off of 5%"
   ]
  },
  {
   "cell_type": "code",
   "execution_count": 141,
   "metadata": {},
   "outputs": [
    {
     "data": {
      "text/plain": [
       "Index(['trial', 'clinical', 'announce', 'patient', 'study', 'results',\n",
       "       'announces', 'com', 'patients', 'pre', 'ted', 'line', 'data',\n",
       "       'treatment', 'present', 'positive', 'met', 'initiate', 'cancer', 'anal',\n",
       "       'research', 'initiates', 'market', 'markets', 'report', 'first',\n",
       "       'analysis', 'med', 'chi', 'iii', 'cell', 'pipeline', 'advanced',\n",
       "       'annual', 'car', 'disease', 'top', 'end', 'enroll', 'meeting',\n",
       "       'researchandmarkets', 'develop', 'age', 'update', 'tumor',\n",
       "       'development', 'society', 'reports', 'presents', 'anti', 'complete',\n",
       "       'enrollment', 'part', 'point', 'pivotal', 'tumors', 'iga', 'europe',\n",
       "       'carcinoma'],\n",
       "      dtype='object')"
      ]
     },
     "execution_count": 141,
     "metadata": {},
     "output_type": "execute_result"
    }
   ],
   "source": [
    "set_of_words = word_frequency.loc[word_frequency > 0.05].index\n",
    "set_of_words"
   ]
  },
  {
   "cell_type": "markdown",
   "metadata": {},
   "source": [
    "#### Positive and Negative Frequency Ratio\n",
    "\n",
    "These numbers will give the frequency of each word in the positive return or negative return events divided by the total number of the positive or negative return events respectively.\n",
    "\n",
    "I will build the function to take in the return number so I can build this part out to test on various days for optimality."
   ]
  },
  {
   "cell_type": "code",
   "execution_count": 127,
   "metadata": {},
   "outputs": [],
   "source": [
    "def split_return_window(ret_df, holding_period=0):\n",
    "    '''returns the positive and negative dataframes, in that order.'''\n",
    "    pos = ret_df.loc[ret_df[\"R_{}\".format(holding_period)] > 0].index\n",
    "    neg = ret_df.loc[ret_df[\"R_{}\".format(holding_period)] <= 0].index\n",
    "    \n",
    "    return pos, neg"
   ]
  },
  {
   "cell_type": "code",
   "execution_count": 130,
   "metadata": {},
   "outputs": [],
   "source": [
    "pos_ind, neg_ind = split_return_window(return_window, 0)\n",
    "\n",
    "pos_articles = articles.loc[pos_ind]\n",
    "neg_articles = articles.loc[neg_ind]"
   ]
  },
  {
   "cell_type": "code",
   "execution_count": 142,
   "metadata": {},
   "outputs": [],
   "source": [
    "pos_word_freq = calculate_word_frequency(set_of_words, pos_articles)\n",
    "neg_word_freq = calculate_word_frequency(set_of_words, neg_articles)"
   ]
  },
  {
   "cell_type": "code",
   "execution_count": 149,
   "metadata": {
    "scrolled": true
   },
   "outputs": [
    {
     "data": {
      "text/html": [
       "<div>\n",
       "<style scoped>\n",
       "    .dataframe tbody tr th:only-of-type {\n",
       "        vertical-align: middle;\n",
       "    }\n",
       "\n",
       "    .dataframe tbody tr th {\n",
       "        vertical-align: top;\n",
       "    }\n",
       "\n",
       "    .dataframe thead th {\n",
       "        text-align: right;\n",
       "    }\n",
       "</style>\n",
       "<table border=\"1\" class=\"dataframe\">\n",
       "  <thead>\n",
       "    <tr style=\"text-align: right;\">\n",
       "      <th></th>\n",
       "      <th>pos</th>\n",
       "      <th>neg</th>\n",
       "    </tr>\n",
       "  </thead>\n",
       "  <tbody>\n",
       "    <tr>\n",
       "      <th>trial</th>\n",
       "      <td>0.468198</td>\n",
       "      <td>0.448622</td>\n",
       "    </tr>\n",
       "    <tr>\n",
       "      <th>patient</th>\n",
       "      <td>0.326855</td>\n",
       "      <td>0.325815</td>\n",
       "    </tr>\n",
       "    <tr>\n",
       "      <th>announce</th>\n",
       "      <td>0.325088</td>\n",
       "      <td>0.300752</td>\n",
       "    </tr>\n",
       "    <tr>\n",
       "      <th>study</th>\n",
       "      <td>0.298587</td>\n",
       "      <td>0.273183</td>\n",
       "    </tr>\n",
       "    <tr>\n",
       "      <th>clinical</th>\n",
       "      <td>0.291519</td>\n",
       "      <td>0.290727</td>\n",
       "    </tr>\n",
       "    <tr>\n",
       "      <th>announces</th>\n",
       "      <td>0.273852</td>\n",
       "      <td>0.260652</td>\n",
       "    </tr>\n",
       "    <tr>\n",
       "      <th>patients</th>\n",
       "      <td>0.266784</td>\n",
       "      <td>0.253133</td>\n",
       "    </tr>\n",
       "    <tr>\n",
       "      <th>com</th>\n",
       "      <td>0.257951</td>\n",
       "      <td>0.303258</td>\n",
       "    </tr>\n",
       "    <tr>\n",
       "      <th>results</th>\n",
       "      <td>0.234982</td>\n",
       "      <td>0.243108</td>\n",
       "    </tr>\n",
       "    <tr>\n",
       "      <th>line</th>\n",
       "      <td>0.226148</td>\n",
       "      <td>0.223058</td>\n",
       "    </tr>\n",
       "  </tbody>\n",
       "</table>\n",
       "</div>"
      ],
      "text/plain": [
       "                pos       neg\n",
       "trial      0.468198  0.448622\n",
       "patient    0.326855  0.325815\n",
       "announce   0.325088  0.300752\n",
       "study      0.298587  0.273183\n",
       "clinical   0.291519  0.290727\n",
       "announces  0.273852  0.260652\n",
       "patients   0.266784  0.253133\n",
       "com        0.257951  0.303258\n",
       "results    0.234982  0.243108\n",
       "line       0.226148  0.223058"
      ]
     },
     "execution_count": 149,
     "metadata": {},
     "output_type": "execute_result"
    }
   ],
   "source": [
    "sent_df = pd.DataFrame([pos_word_freq, neg_word_freq], index = [\"pos\", \"neg\"]).T\n",
    "sent_df.head(10)"
   ]
  },
  {
   "cell_type": "markdown",
   "metadata": {},
   "source": [
    "Let's take a look at the difference between the columns. This would indicate a \"lean\" towards on direction or another."
   ]
  },
  {
   "cell_type": "code",
   "execution_count": 150,
   "metadata": {},
   "outputs": [],
   "source": [
    "sent_df[\"diff\"] = sent_df.pos - sent_df.neg"
   ]
  },
  {
   "cell_type": "code",
   "execution_count": 159,
   "metadata": {
    "scrolled": false
   },
   "outputs": [],
   "source": [
    "sent_df.sort_values(\"diff\", inplace=True, ascending=False)\n",
    "\n",
    "top_10 = sent_df.iloc[:10]\n",
    "bottom_10 = sent_df.iloc[:-10:-1]"
   ]
  },
  {
   "cell_type": "code",
   "execution_count": 160,
   "metadata": {},
   "outputs": [
    {
     "data": {
      "text/html": [
       "<div>\n",
       "<style scoped>\n",
       "    .dataframe tbody tr th:only-of-type {\n",
       "        vertical-align: middle;\n",
       "    }\n",
       "\n",
       "    .dataframe tbody tr th {\n",
       "        vertical-align: top;\n",
       "    }\n",
       "\n",
       "    .dataframe thead th {\n",
       "        text-align: right;\n",
       "    }\n",
       "</style>\n",
       "<table border=\"1\" class=\"dataframe\">\n",
       "  <thead>\n",
       "    <tr style=\"text-align: right;\">\n",
       "      <th></th>\n",
       "      <th>positive</th>\n",
       "      <th>top</th>\n",
       "      <th>initiate</th>\n",
       "      <th>initiates</th>\n",
       "      <th>first</th>\n",
       "      <th>study</th>\n",
       "      <th>announce</th>\n",
       "      <th>tumors</th>\n",
       "      <th>treatment</th>\n",
       "      <th>pivotal</th>\n",
       "    </tr>\n",
       "  </thead>\n",
       "  <tbody>\n",
       "    <tr>\n",
       "      <th>pos</th>\n",
       "      <td>0.160777</td>\n",
       "      <td>0.093640</td>\n",
       "      <td>0.143110</td>\n",
       "      <td>0.123675</td>\n",
       "      <td>0.125442</td>\n",
       "      <td>0.298587</td>\n",
       "      <td>0.325088</td>\n",
       "      <td>0.077739</td>\n",
       "      <td>0.171378</td>\n",
       "      <td>0.070671</td>\n",
       "    </tr>\n",
       "    <tr>\n",
       "      <th>neg</th>\n",
       "      <td>0.122807</td>\n",
       "      <td>0.062657</td>\n",
       "      <td>0.112782</td>\n",
       "      <td>0.095238</td>\n",
       "      <td>0.097744</td>\n",
       "      <td>0.273183</td>\n",
       "      <td>0.300752</td>\n",
       "      <td>0.055138</td>\n",
       "      <td>0.150376</td>\n",
       "      <td>0.050125</td>\n",
       "    </tr>\n",
       "    <tr>\n",
       "      <th>diff</th>\n",
       "      <td>0.037970</td>\n",
       "      <td>0.030983</td>\n",
       "      <td>0.030328</td>\n",
       "      <td>0.028437</td>\n",
       "      <td>0.027697</td>\n",
       "      <td>0.025404</td>\n",
       "      <td>0.024336</td>\n",
       "      <td>0.022601</td>\n",
       "      <td>0.021002</td>\n",
       "      <td>0.020546</td>\n",
       "    </tr>\n",
       "  </tbody>\n",
       "</table>\n",
       "</div>"
      ],
      "text/plain": [
       "      positive       top  initiate  initiates     first     study  announce  \\\n",
       "pos   0.160777  0.093640  0.143110   0.123675  0.125442  0.298587  0.325088   \n",
       "neg   0.122807  0.062657  0.112782   0.095238  0.097744  0.273183  0.300752   \n",
       "diff  0.037970  0.030983  0.030328   0.028437  0.027697  0.025404  0.024336   \n",
       "\n",
       "        tumors  treatment   pivotal  \n",
       "pos   0.077739   0.171378  0.070671  \n",
       "neg   0.055138   0.150376  0.050125  \n",
       "diff  0.022601   0.021002  0.020546  "
      ]
     },
     "execution_count": 160,
     "metadata": {},
     "output_type": "execute_result"
    }
   ],
   "source": [
    "top_10.T"
   ]
  },
  {
   "cell_type": "code",
   "execution_count": 161,
   "metadata": {},
   "outputs": [
    {
     "data": {
      "text/html": [
       "<div>\n",
       "<style scoped>\n",
       "    .dataframe tbody tr th:only-of-type {\n",
       "        vertical-align: middle;\n",
       "    }\n",
       "\n",
       "    .dataframe tbody tr th {\n",
       "        vertical-align: top;\n",
       "    }\n",
       "\n",
       "    .dataframe thead th {\n",
       "        text-align: right;\n",
       "    }\n",
       "</style>\n",
       "<table border=\"1\" class=\"dataframe\">\n",
       "  <thead>\n",
       "    <tr style=\"text-align: right;\">\n",
       "      <th></th>\n",
       "      <th>present</th>\n",
       "      <th>pre</th>\n",
       "      <th>com</th>\n",
       "      <th>annual</th>\n",
       "      <th>data</th>\n",
       "      <th>end</th>\n",
       "      <th>ted</th>\n",
       "      <th>pipeline</th>\n",
       "      <th>disease</th>\n",
       "    </tr>\n",
       "  </thead>\n",
       "  <tbody>\n",
       "    <tr>\n",
       "      <th>pos</th>\n",
       "      <td>0.120141</td>\n",
       "      <td>0.197880</td>\n",
       "      <td>0.257951</td>\n",
       "      <td>0.049470</td>\n",
       "      <td>0.151943</td>\n",
       "      <td>0.058304</td>\n",
       "      <td>0.183746</td>\n",
       "      <td>0.097173</td>\n",
       "      <td>0.060071</td>\n",
       "    </tr>\n",
       "    <tr>\n",
       "      <th>neg</th>\n",
       "      <td>0.182957</td>\n",
       "      <td>0.255639</td>\n",
       "      <td>0.303258</td>\n",
       "      <td>0.090226</td>\n",
       "      <td>0.187970</td>\n",
       "      <td>0.092732</td>\n",
       "      <td>0.218045</td>\n",
       "      <td>0.127820</td>\n",
       "      <td>0.090226</td>\n",
       "    </tr>\n",
       "    <tr>\n",
       "      <th>diff</th>\n",
       "      <td>-0.062816</td>\n",
       "      <td>-0.057759</td>\n",
       "      <td>-0.045308</td>\n",
       "      <td>-0.040756</td>\n",
       "      <td>-0.036026</td>\n",
       "      <td>-0.034428</td>\n",
       "      <td>-0.034300</td>\n",
       "      <td>-0.030646</td>\n",
       "      <td>-0.030155</td>\n",
       "    </tr>\n",
       "  </tbody>\n",
       "</table>\n",
       "</div>"
      ],
      "text/plain": [
       "       present       pre       com    annual      data       end       ted  \\\n",
       "pos   0.120141  0.197880  0.257951  0.049470  0.151943  0.058304  0.183746   \n",
       "neg   0.182957  0.255639  0.303258  0.090226  0.187970  0.092732  0.218045   \n",
       "diff -0.062816 -0.057759 -0.045308 -0.040756 -0.036026 -0.034428 -0.034300   \n",
       "\n",
       "      pipeline   disease  \n",
       "pos   0.097173  0.060071  \n",
       "neg   0.127820  0.090226  \n",
       "diff -0.030646 -0.030155  "
      ]
     },
     "execution_count": 161,
     "metadata": {},
     "output_type": "execute_result"
    }
   ],
   "source": [
    "bottom_10.T"
   ]
  },
  {
   "cell_type": "markdown",
   "metadata": {},
   "source": [
    "Alright so, now we have a way to get the top and bottom scoring words.\n",
    "\n",
    "Now would like to convert this notebook portion into a piece of production code. This will allow further investigation on what keywords are important as I can look to longer holding periods.\n",
    "\n",
    "Remember, for now, I am simply looking for keywords as factors. They will likely be pushed in as contains_word = {True, False} later on."
   ]
  },
  {
   "cell_type": "code",
   "execution_count": 179,
   "metadata": {},
   "outputs": [],
   "source": [
    "def calculate_word_frequency(word_list, df):\n",
    "    d = {word: sum([1 if word in article else 0 for article in df.title.values])/df.shape[0] for word in word_list}\n",
    "    \n",
    "    return pd.Series(d, index = d.keys()).sort_values(ascending=False)\n",
    "\n",
    "def split_return_window(ret_df, holding_period=0):\n",
    "    '''returns the positive and negative dataframes, in that order.'''\n",
    "    pos = ret_df.loc[ret_df[\"R_{}\".format(holding_period)] > 0].index\n",
    "    neg = ret_df.loc[ret_df[\"R_{}\".format(holding_period)] <= 0].index\n",
    "    \n",
    "    return pos, neg\n",
    "\n",
    "def calculate_top_and_bottom_keywords(article_df, return_df, holding_period, cut_off=0.05):\n",
    "    combined_titles = \" \".join(articles.title.values.tolist())\n",
    "\n",
    "    set_of_words = list(set(combined_titles.split(\" \")))\n",
    "    set_of_words.remove(\"\")\n",
    "    set_of_words.remove(\"phase\")\n",
    "    \n",
    "    set_of_words = [word for word in set_of_words if len(word) > 2]\n",
    "\n",
    "    word_frequency = calculate_word_frequency(set_of_words, articles)\n",
    "    \n",
    "    set_of_words = word_frequency.loc[word_frequency > cut_off].index\n",
    "    \n",
    "    pos_ind, neg_ind = split_return_window(return_df, holding_period)\n",
    "\n",
    "    pos_articles = articles.loc[pos_ind]\n",
    "    neg_articles = articles.loc[neg_ind]\n",
    "    \n",
    "    pos_word_freq = calculate_word_frequency(set_of_words, pos_articles)\n",
    "    neg_word_freq = calculate_word_frequency(set_of_words, neg_articles)\n",
    "    \n",
    "    sent_df = pd.DataFrame([pos_word_freq, neg_word_freq], index = [\"pos\", \"neg\"]).T\n",
    "    \n",
    "    sent_df[\"diff\"] = sent_df.pos - sent_df.neg\n",
    "    \n",
    "    sent_df.sort_values(\"diff\", inplace=True, ascending=False)\n",
    "\n",
    "    return sent_df[\"diff\"].iloc[:10], sent_df[\"diff\"].iloc[:-10:-1]"
   ]
  },
  {
   "cell_type": "code",
   "execution_count": 180,
   "metadata": {},
   "outputs": [
    {
     "data": {
      "text/plain": [
       "(positive     0.037970\n",
       " top          0.030983\n",
       " initiate     0.030328\n",
       " initiates    0.028437\n",
       " first        0.027697\n",
       " study        0.025404\n",
       " announce     0.024336\n",
       " tumors       0.022601\n",
       " treatment    0.021002\n",
       " pivotal      0.020546\n",
       " Name: diff, dtype: float64, present    -0.062816\n",
       " pre        -0.057759\n",
       " com        -0.045308\n",
       " annual     -0.040756\n",
       " data       -0.036026\n",
       " end        -0.034428\n",
       " ted        -0.034300\n",
       " pipeline   -0.030646\n",
       " disease    -0.030155\n",
       " Name: diff, dtype: float64)"
      ]
     },
     "execution_count": 180,
     "metadata": {},
     "output_type": "execute_result"
    }
   ],
   "source": [
    "calculate_top_and_bottom_keywords(articles.title, return_window, 0, 0.05)"
   ]
  },
  {
   "cell_type": "markdown",
   "metadata": {},
   "source": [
    "Great! It works, will add to src and refactor there.\n",
    "\n",
    "Further, we can create a dataframe that tracks which words are import through time."
   ]
  },
  {
   "cell_type": "code",
   "execution_count": null,
   "metadata": {},
   "outputs": [],
   "source": []
  },
  {
   "cell_type": "code",
   "execution_count": null,
   "metadata": {},
   "outputs": [],
   "source": []
  }
 ],
 "metadata": {
  "kernelspec": {
   "display_name": "Python 3",
   "language": "python",
   "name": "python3"
  },
  "language_info": {
   "codemirror_mode": {
    "name": "ipython",
    "version": 3
   },
   "file_extension": ".py",
   "mimetype": "text/x-python",
   "name": "python",
   "nbconvert_exporter": "python",
   "pygments_lexer": "ipython3",
   "version": "3.6.5"
  }
 },
 "nbformat": 4,
 "nbformat_minor": 2
}
